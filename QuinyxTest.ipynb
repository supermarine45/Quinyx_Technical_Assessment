{
  "nbformat": 4,
  "nbformat_minor": 0,
  "metadata": {
    "colab": {
      "provenance": [],
      "collapsed_sections": []
    },
    "kernelspec": {
      "name": "python3",
      "display_name": "Python 3"
    },
    "language_info": {
      "name": "python"
    },
    "accelerator": "TPU"
  },
  "cells": [
    {
      "cell_type": "code",
      "execution_count": 46,
      "metadata": {
        "colab": {
          "base_uri": "https://localhost:8080/"
        },
        "id": "r4CyS4gL2-FA",
        "outputId": "5483529d-6b5b-4339-a2d5-a8dcac5c7817"
      },
      "outputs": [
        {
          "output_type": "stream",
          "name": "stdout",
          "text": [
            "Drive already mounted at /content/drive/; to attempt to forcibly remount, call drive.mount(\"/content/drive/\", force_remount=True).\n"
          ]
        }
      ],
      "source": [
        "import os\n",
        "from google.colab import drive\n",
        "drive.mount('/content/drive/')\n",
        "os.chdir('/content/drive/MyDrive/QuinyxDocuments/')"
      ]
    },
    {
      "cell_type": "code",
      "source": [
        "import pandas as pd\n",
        "import numpy as np\n",
        "from matplotlib import pyplot as plt\n",
        "from sklearn.model_selection import KFold, cross_val_score, train_test_split\n",
        "import seaborn as sns\n",
        "from sklearn.multioutput import MultiOutputRegressor"
      ],
      "metadata": {
        "id": "fJJklkPrW4gl"
      },
      "execution_count": 91,
      "outputs": []
    },
    {
      "cell_type": "code",
      "source": [
        "'''\n",
        "Each row of the data consists of vessel arrivals and departures (eta, ata, atd), \n",
        "along with the load and discharge amount of each cargo type (oil, coal, oil, petrolium).\n",
        "The goal is to predict the load and discharge of each cargo shipment.\n",
        "\n",
        "To do this, we will perform:\n",
        "1. Find the description of the data\n",
        "2. Data cleaning, and pre-processing.\n",
        "3. Exploratory data analysis and Feature engineering.\n",
        "4. Building ML model.\n",
        "5. Model optimization.\n",
        "6. Evaluation\n",
        "'''"
      ],
      "metadata": {
        "id": "5CS4oMEPX2SB"
      },
      "execution_count": null,
      "outputs": []
    },
    {
      "cell_type": "markdown",
      "source": [
        "## Data Loading and Pre-processing"
      ],
      "metadata": {
        "id": "eZWFbULIZkbo"
      }
    },
    {
      "cell_type": "code",
      "source": [
        "# Load the data into a pd df\n",
        "df_vessel = pd.read_excel('VesselData.xlsx')\n",
        "df_vessel"
      ],
      "metadata": {
        "id": "8tjffuZuWk8e"
      },
      "execution_count": null,
      "outputs": []
    },
    {
      "cell_type": "code",
      "source": [
        "# Check for NaN\n",
        "print(\"Columns with NaN\", df_vessel.columns[df_vessel.isna().any()].tolist())"
      ],
      "metadata": {
        "colab": {
          "base_uri": "https://localhost:8080/"
        },
        "id": "lbQtYHDhZip4",
        "outputId": "b41d66f7-ac52-4c12-b498-8e323deeb9bd"
      },
      "execution_count": 49,
      "outputs": [
        {
          "output_type": "stream",
          "name": "stdout",
          "text": [
            "Columns with NaN ['vesseldwt', 'stevedorenames', 'hasnohamis']\n"
          ]
        }
      ]
    },
    {
      "cell_type": "code",
      "source": [
        "# Check the amount of NaNs for each column\n",
        "print(\"Num of NaNs in vesseldwt\", df_vessel['vesseldwt'].isnull().values.sum())\n",
        "print(\"Num of NaNs in stevedorenames\", df_vessel['stevedorenames'].isnull().values.sum())\n",
        "print(\"Num of NaNs in hasnohamis\", df_vessel['hasnohamis'].isnull().values.sum())"
      ],
      "metadata": {
        "id": "PCAXiGEAaD07"
      },
      "execution_count": null,
      "outputs": []
    },
    {
      "cell_type": "code",
      "source": [
        "# We can either drop of fill NaNs\n",
        "# As hasnohamis consists of all NaNs, we drop the column\n",
        "df_vessel = df_vessel.drop(columns=['hasnohamis'])\n",
        "# Here, as we're unsure of the appropriate values to fill the NaN rows of vesseldwt and stevedorenames columns, we drop them\n",
        "df_vessel = df_vessel.dropna()\n",
        "df_vessel"
      ],
      "metadata": {
        "id": "Y17tKTQbacQ-"
      },
      "execution_count": null,
      "outputs": []
    },
    {
      "cell_type": "code",
      "source": [
        "# We set vesselid as the index, instead of a feature (column)\n",
        "df_vessel = df_vessel.set_index('vesselid')"
      ],
      "metadata": {
        "id": "_b6F5GzYayur"
      },
      "execution_count": 52,
      "outputs": []
    },
    {
      "cell_type": "code",
      "source": [
        "# We make 4 different df's for each product\n",
        "df_vessel_1 = df_vessel.drop(columns=['discharge2', 'discharge3', 'discharge4', 'load2', 'load3', 'load4'])\n",
        "df_vessel_2 = df_vessel.drop(columns=['discharge1', 'discharge3', 'discharge4', 'load1', 'load3', 'load4'])\n",
        "df_vessel_3 = df_vessel.drop(columns=['discharge2', 'discharge1', 'discharge4', 'load2', 'load1', 'load4'])\n",
        "df_vessel_4 = df_vessel.drop(columns=['discharge2', 'discharge3', 'discharge1', 'load2', 'load3', 'load1'])"
      ],
      "metadata": {
        "id": "tRZjjsGljwDQ"
      },
      "execution_count": 53,
      "outputs": []
    },
    {
      "cell_type": "markdown",
      "source": [
        "## Exploratory Data Analysis and Feature Engineering\n"
      ],
      "metadata": {
        "id": "iX_0hYjEdFsS"
      }
    },
    {
      "cell_type": "code",
      "source": [
        "# Check for skewness in each target variable\n",
        "# discharge 1\n",
        "sns.distplot(df_vessel_1['discharge1'])\n",
        "# average skewness\n",
        "df_vessel_1['discharge1'].skew() / len(df_vessel_1)"
      ],
      "metadata": {
        "colab": {
          "base_uri": "https://localhost:8080/",
          "height": 351
        },
        "id": "AKZ--w7beSjk",
        "outputId": "1f5cf9fe-a78b-4854-aabc-6b29f059b406"
      },
      "execution_count": 61,
      "outputs": [
        {
          "output_type": "stream",
          "name": "stderr",
          "text": [
            "/usr/local/lib/python3.7/dist-packages/seaborn/distributions.py:2619: FutureWarning: `distplot` is a deprecated function and will be removed in a future version. Please adapt your code to use either `displot` (a figure-level function with similar flexibility) or `histplot` (an axes-level function for histograms).\n",
            "  warnings.warn(msg, FutureWarning)\n"
          ]
        },
        {
          "output_type": "execute_result",
          "data": {
            "text/plain": [
              "0.0012461852378713098"
            ]
          },
          "metadata": {},
          "execution_count": 61
        },
        {
          "output_type": "display_data",
          "data": {
            "text/plain": [
              "<Figure size 432x288 with 1 Axes>"
            ],
            "image/png": "[encoded data removed]"
          },
          "metadata": {
            "needs_background": "light"
          }
        }
      ]
    },
    {
      "cell_type": "code",
      "source": [
        "# discharge 2\n",
        "sns.distplot(df_vessel_2['discharge2'])\n",
        "# average skewness\n",
        "df_vessel_2['discharge2'].skew() / len(df_vessel_2)"
      ],
      "metadata": {
        "colab": {
          "base_uri": "https://localhost:8080/",
          "height": 350
        },
        "id": "_O6svwgChsRW",
        "outputId": "afbd021e-9d21-40e6-e7d7-a5e0868ecf19"
      },
      "execution_count": 62,
      "outputs": [
        {
          "output_type": "stream",
          "name": "stderr",
          "text": [
            "/usr/local/lib/python3.7/dist-packages/seaborn/distributions.py:2619: FutureWarning: `distplot` is a deprecated function and will be removed in a future version. Please adapt your code to use either `displot` (a figure-level function with similar flexibility) or `histplot` (an axes-level function for histograms).\n",
            "  warnings.warn(msg, FutureWarning)\n"
          ]
        },
        {
          "output_type": "execute_result",
          "data": {
            "text/plain": [
              "0.001409441160175467"
            ]
          },
          "metadata": {},
          "execution_count": 62
        },
        {
          "output_type": "display_data",
          "data": {
            "text/plain": [
              "<Figure size 432x288 with 1 Axes>"
            ],
            "image/png": "[encoded data removed]"
          },
          "metadata": {
            "needs_background": "light"
          }
        }
      ]
    },
    {
      "cell_type": "code",
      "source": [
        "# discharge 3\n",
        "sns.distplot(df_vessel['discharge3'])\n",
        "# average skewness\n",
        "df_vessel_3['discharge3'].skew() / len(df_vessel_3)"
      ],
      "metadata": {
        "colab": {
          "base_uri": "https://localhost:8080/",
          "height": 350
        },
        "id": "WS47V7kOhzyX",
        "outputId": "7b850dc5-785d-4edd-d76d-e971caec9f35"
      },
      "execution_count": 64,
      "outputs": [
        {
          "output_type": "stream",
          "name": "stderr",
          "text": [
            "/usr/local/lib/python3.7/dist-packages/seaborn/distributions.py:2619: FutureWarning: `distplot` is a deprecated function and will be removed in a future version. Please adapt your code to use either `displot` (a figure-level function with similar flexibility) or `histplot` (an axes-level function for histograms).\n",
            "  warnings.warn(msg, FutureWarning)\n"
          ]
        },
        {
          "output_type": "execute_result",
          "data": {
            "text/plain": [
              "0.0008358950511220982"
            ]
          },
          "metadata": {},
          "execution_count": 64
        },
        {
          "output_type": "display_data",
          "data": {
            "text/plain": [
              "<Figure size 432x288 with 1 Axes>"
            ],
            "image/png": "[encoded data removed]"
          },
          "metadata": {
            "needs_background": "light"
          }
        }
      ]
    },
    {
      "cell_type": "code",
      "source": [
        "# discharge 4\n",
        "sns.distplot(df_vessel['discharge4'])\n",
        "# average skewness\n",
        "df_vessel_4['discharge4'].skew() / len(df_vessel_4)"
      ],
      "metadata": {
        "colab": {
          "base_uri": "https://localhost:8080/",
          "height": 350
        },
        "id": "prndhiUZh2PX",
        "outputId": "714fb953-1924-40fb-cbeb-e7ccd9e5e695"
      },
      "execution_count": 66,
      "outputs": [
        {
          "output_type": "stream",
          "name": "stderr",
          "text": [
            "/usr/local/lib/python3.7/dist-packages/seaborn/distributions.py:2619: FutureWarning: `distplot` is a deprecated function and will be removed in a future version. Please adapt your code to use either `displot` (a figure-level function with similar flexibility) or `histplot` (an axes-level function for histograms).\n",
            "  warnings.warn(msg, FutureWarning)\n"
          ]
        },
        {
          "output_type": "execute_result",
          "data": {
            "text/plain": [
              "0.000988528584119653"
            ]
          },
          "metadata": {},
          "execution_count": 66
        },
        {
          "output_type": "display_data",
          "data": {
            "text/plain": [
              "<Figure size 432x288 with 1 Axes>"
            ],
            "image/png": "[encoded data removed]"
          },
          "metadata": {
            "needs_background": "light"
          }
        }
      ]
    },
    {
      "cell_type": "code",
      "source": [
        "# load 1\n",
        "sns.distplot(df_vessel['load1'])\n",
        "# average skewness\n",
        "df_vessel_1['load1'].skew() / len(df_vessel_1)"
      ],
      "metadata": {
        "colab": {
          "base_uri": "https://localhost:8080/",
          "height": 350
        },
        "id": "lxLSO2gXh5Ga",
        "outputId": "c0c5392f-7137-4aaf-989a-d87f7a217ed7"
      },
      "execution_count": 67,
      "outputs": [
        {
          "output_type": "stream",
          "name": "stderr",
          "text": [
            "/usr/local/lib/python3.7/dist-packages/seaborn/distributions.py:2619: FutureWarning: `distplot` is a deprecated function and will be removed in a future version. Please adapt your code to use either `displot` (a figure-level function with similar flexibility) or `histplot` (an axes-level function for histograms).\n",
            "  warnings.warn(msg, FutureWarning)\n"
          ]
        },
        {
          "output_type": "execute_result",
          "data": {
            "text/plain": [
              "0.0032877714680516028"
            ]
          },
          "metadata": {},
          "execution_count": 67
        },
        {
          "output_type": "display_data",
          "data": {
            "text/plain": [
              "<Figure size 432x288 with 1 Axes>"
            ],
            "image/png": "[encoded data removed]"
          },
          "metadata": {
            "needs_background": "light"
          }
        }
      ]
    },
    {
      "cell_type": "code",
      "source": [
        "# load 2\n",
        "sns.distplot(df_vessel['load2'])\n",
        "# average skewness\n",
        "df_vessel_2['load2'].skew() / len(df_vessel_2)"
      ],
      "metadata": {
        "colab": {
          "base_uri": "https://localhost:8080/",
          "height": 350
        },
        "id": "oB7Mp-ITh8vF",
        "outputId": "f8044cd4-9da5-4815-826e-8516b2773643"
      },
      "execution_count": 68,
      "outputs": [
        {
          "output_type": "stream",
          "name": "stderr",
          "text": [
            "/usr/local/lib/python3.7/dist-packages/seaborn/distributions.py:2619: FutureWarning: `distplot` is a deprecated function and will be removed in a future version. Please adapt your code to use either `displot` (a figure-level function with similar flexibility) or `histplot` (an axes-level function for histograms).\n",
            "  warnings.warn(msg, FutureWarning)\n"
          ]
        },
        {
          "output_type": "execute_result",
          "data": {
            "text/plain": [
              "0.006546317566984212"
            ]
          },
          "metadata": {},
          "execution_count": 68
        },
        {
          "output_type": "display_data",
          "data": {
            "text/plain": [
              "<Figure size 432x288 with 1 Axes>"
            ],
            "image/png": "[encoded data removed]"
          },
          "metadata": {
            "needs_background": "light"
          }
        }
      ]
    },
    {
      "cell_type": "code",
      "source": [
        "# load 3\n",
        "sns.distplot(df_vessel['load3'])\n",
        "# average skewness\n",
        "df_vessel_3['load3'].skew() / len(df_vessel_3)"
      ],
      "metadata": {
        "colab": {
          "base_uri": "https://localhost:8080/",
          "height": 350
        },
        "id": "BR8dpwK1h_9f",
        "outputId": "c0a91910-ecef-410c-9736-fb15781df2ef"
      },
      "execution_count": 69,
      "outputs": [
        {
          "output_type": "stream",
          "name": "stderr",
          "text": [
            "/usr/local/lib/python3.7/dist-packages/seaborn/distributions.py:2619: FutureWarning: `distplot` is a deprecated function and will be removed in a future version. Please adapt your code to use either `displot` (a figure-level function with similar flexibility) or `histplot` (an axes-level function for histograms).\n",
            "  warnings.warn(msg, FutureWarning)\n"
          ]
        },
        {
          "output_type": "execute_result",
          "data": {
            "text/plain": [
              "0.010333584403740473"
            ]
          },
          "metadata": {},
          "execution_count": 69
        },
        {
          "output_type": "display_data",
          "data": {
            "text/plain": [
              "<Figure size 432x288 with 1 Axes>"
            ],
            "image/png": "[encoded data removed]"
          },
          "metadata": {
            "needs_background": "light"
          }
        }
      ]
    },
    {
      "cell_type": "code",
      "source": [
        "# load 4\n",
        "sns.distplot(df_vessel['load4'])\n",
        "# average skewness\n",
        "df_vessel_4['load4'].skew() / len(df_vessel_4)"
      ],
      "metadata": {
        "colab": {
          "base_uri": "https://localhost:8080/",
          "height": 353
        },
        "id": "pGOJhno1iB40",
        "outputId": "f9424618-d493-4c89-df93-56c47b59918a"
      },
      "execution_count": 72,
      "outputs": [
        {
          "output_type": "stream",
          "name": "stderr",
          "text": [
            "/usr/local/lib/python3.7/dist-packages/seaborn/distributions.py:2619: FutureWarning: `distplot` is a deprecated function and will be removed in a future version. Please adapt your code to use either `displot` (a figure-level function with similar flexibility) or `histplot` (an axes-level function for histograms).\n",
            "  warnings.warn(msg, FutureWarning)\n"
          ]
        },
        {
          "output_type": "execute_result",
          "data": {
            "text/plain": [
              "0.0019048114694594517"
            ]
          },
          "metadata": {},
          "execution_count": 72
        },
        {
          "output_type": "display_data",
          "data": {
            "text/plain": [
              "<Figure size 432x288 with 1 Axes>"
            ],
            "image/png": "[encoded data removed]"
          },
          "metadata": {
            "needs_background": "light"
          }
        }
      ]
    },
    {
      "cell_type": "markdown",
      "source": [
        "We don't observe any major skewness in the data, based on the skewness score. Therefore, we don't need to do any transformation."
      ],
      "metadata": {
        "id": "QbcAk5uQl9E8"
      }
    },
    {
      "cell_type": "markdown",
      "source": [
        "### Statistical Analysis\n",
        "Due to limited available documentation and domain knowledge, we do a blind statistical analysis mostly on numerical features. Additionally, we take object type columns which consist of few of unique values."
      ],
      "metadata": {
        "id": "vMqXAYNvo2wS"
      }
    },
    {
      "cell_type": "code",
      "source": [
        "# Example of number of unique values per column for our df\n",
        "# Complete result for each df will be explained in the Part 3 of the assessment\n",
        "unique_values = []\n",
        "df_vessel_1.columns.nunique\n",
        "for col in df_vessel_1.columns:\n",
        "  unique_values.append(df_vessel_1[col].nunique())\n",
        "unique_values  "
      ],
      "metadata": {
        "id": "XVY6V6t3qgkZ"
      },
      "execution_count": null,
      "outputs": []
    },
    {
      "cell_type": "markdown",
      "source": [
        "### We then see which features to drop (by correlation with target variable and by multicollinearity)."
      ],
      "metadata": {
        "id": "coshRXNOmRHO"
      }
    },
    {
      "cell_type": "code",
      "source": [
        "# We convert the TravelType column (which has only few unique values) to dummy variable\n",
        "df_vessel_1['traveltype_no'] = -1\n",
        "df_vessel_2['traveltype_no'] = -1\n",
        "df_vessel_3['traveltype_no'] = -1\n",
        "df_vessel_4['traveltype_no'] = -1\n",
        "\n",
        "for i in range(len(df_vessel_1)):\n",
        "  if (df_vessel_1['traveltype'].values[i] == 'ARRIVAL'):\n",
        "    df_vessel_1['traveltype_no'].values[i] = 0\n",
        "  else:\n",
        "    df_vessel_1['traveltype_no'].values[i] = 1\n",
        "\n",
        "for i in range(len(df_vessel_2)):\n",
        "  if (df_vessel_2['traveltype'].values[i] == 'ARRIVAL'):\n",
        "    df_vessel_2['traveltype_no'].values[i] = 0\n",
        "  else:\n",
        "    df_vessel_2['traveltype_no'].values[i] = 1\n",
        "\n",
        "for i in range(len(df_vessel_3)):\n",
        "  if (df_vessel_3['traveltype'].values[i] == 'ARRIVAL'):\n",
        "    df_vessel_3['traveltype_no'].values[i] = 0\n",
        "  else:\n",
        "    df_vessel_3['traveltype_no'].values[i] = 1\n",
        "\n",
        "for i in range(len(df_vessel_4)):\n",
        "  if (df_vessel_4['traveltype'].values[i] == 'ARRIVAL'):\n",
        "    df_vessel_4['traveltype_no'].values[i] = 0\n",
        "  else:\n",
        "    df_vessel_4['traveltype_no'].values[i] = 1"
      ],
      "metadata": {
        "id": "5ZFona9PsBVk"
      },
      "execution_count": 89,
      "outputs": []
    },
    {
      "cell_type": "code",
      "source": [
        "# Calculate correlation with each target variable\n",
        "# Cargo 1\n",
        "corr_matrix = df_vessel_1.corr()\n",
        "print(corr_matrix['discharge1'].sort_values(ascending=False), \"Correlation of the features with discharge1\")\n",
        "print(corr_matrix['load1'].sort_values(ascending=False), \"Correlation of the features with load1\")"
      ],
      "metadata": {
        "id": "lfXZODqRcml3"
      },
      "execution_count": null,
      "outputs": []
    },
    {
      "cell_type": "code",
      "source": [
        "# Calculate correlation with each target variable\n",
        "# Cargo 2\n",
        "print(corr_matrix['discharge2'].sort_values(ascending=False), \"Correlation of the features with discharge2\")\n",
        "print(corr_matrix['load2'].sort_values(ascending=False), \"Correlation of the features with load2\")"
      ],
      "metadata": {
        "id": "PJflpi18f_-F"
      },
      "execution_count": null,
      "outputs": []
    },
    {
      "cell_type": "code",
      "source": [
        "# Calculate correlation with each target variable\n",
        "# Cargo 3\n",
        "print(corr_matrix['discharge3'].sort_values(ascending=False), \"Correlation of the features with discharge3\")\n",
        "print(corr_matrix['load3'].sort_values(ascending=False), \"Correlation of the features with load3\")"
      ],
      "metadata": {
        "id": "WTPujFJWgDhl"
      },
      "execution_count": null,
      "outputs": []
    },
    {
      "cell_type": "code",
      "source": [
        "# Calculate correlation with each target variable\n",
        "# Cargo 4\n",
        "print(corr_matrix['discharge4'].sort_values(ascending=False), \"Correlation of the features with discharge4\")\n",
        "print(corr_matrix['load4'].sort_values(ascending=False), \"Correlation of the features with load4\")"
      ],
      "metadata": {
        "id": "rsIQqBfkgI0I"
      },
      "execution_count": null,
      "outputs": []
    },
    {
      "cell_type": "code",
      "source": [
        "# Converting categorical variables to numerical\n",
        "df_vessel = pd.get_dummies(df_vessel)"
      ],
      "metadata": {
        "id": "Rsbfrgn5cdgQ"
      },
      "execution_count": null,
      "outputs": []
    },
    {
      "cell_type": "markdown",
      "source": [
        "Multicollinearity test with Variance Inflation Factor. Highly correlateed features tend to give high variances, which is difficult for our model to learn"
      ],
      "metadata": {
        "id": "6L-UqGXovGG3"
      }
    },
    {
      "cell_type": "code",
      "source": [
        "# Here as example, we perform VIF on the df_vessel_1 data\n",
        "from statsmodels.stats.outliers_influence import variance_inflation_factor\n",
        "\n",
        "X = pd.get_dummies(df_vessel_1).drop(columns=['load1', 'discharged1'])\n",
        "\n",
        "vif_data = pd.DataFrame()\n",
        "vif_data[\"feature\"] = X.columns\n",
        "  \n",
        "# calculating VIF for each feature\n",
        "vif_data[\"VIF\"] = [variance_inflation_factor(X.values, i)\n",
        "                          for i in range(len(X.columns))]\n",
        "  \n",
        "print(vif_data.sort_values(by = 'VIF', ascending = False))"
      ],
      "metadata": {
        "id": "KzVHlEtOgkud"
      },
      "execution_count": null,
      "outputs": []
    },
    {
      "cell_type": "markdown",
      "source": [
        "After these steps, we would drop the features which are not correlated with the target variable or are highly correlated with another features. In this assignment, however, we did not have enough time to do this."
      ],
      "metadata": {
        "id": "1M4LpU06upAq"
      }
    },
    {
      "cell_type": "markdown",
      "source": [
        "## Building ML model"
      ],
      "metadata": {
        "id": "oORi6p3kd5CJ"
      }
    },
    {
      "cell_type": "markdown",
      "source": [
        "Possible solution for this application is the Sklearn MultiOutputRegressor for each dataframe:\n",
        "\n",
        "https://scikit-learn.org/stable/modules/generated/sklearn.multioutput.MultiOutputRegressor.html\n",
        "\n",
        "as we have 2 target variables (discharge and load).\n",
        "The steps involved here comprises of:\n",
        "1. Train/test/val split \n",
        "2. Building the model"
      ],
      "metadata": {
        "id": "prw99nJgwO8L"
      }
    },
    {
      "cell_type": "code",
      "source": [
        "# For xample we split as follows\n",
        "X = df_vessel_1.drop(['load1','discharge1'],axis=1)\n",
        "y = df_vessel_1['load1','discharge1']\n",
        "\n",
        "X_train, X_test, y_train, y_test = train_test_split(X, y, test_size=0.3, random_state=56)\n",
        "\n",
        "# Validation set (if needed)\n",
        "X_val, X_test, y_val, y_test = train_test_split(X_test, y_test, test_size=0.5, random_state=56)"
      ],
      "metadata": {
        "id": "mNspi9u-w3PJ"
      },
      "execution_count": null,
      "outputs": []
    },
    {
      "cell_type": "markdown",
      "source": [
        "## Optimization \n",
        "Optimization can be done by performing either GridSearch, RandomSearch, or Bayesian Optimization. Additionally, if we would like to test other models, we can do so by performing k-fold cross validation (optionally via PyCaret library)"
      ],
      "metadata": {
        "id": "XgKOF6pvyRMi"
      }
    },
    {
      "cell_type": "markdown",
      "source": [
        "## Evaluation\n",
        "This can be done by either measuring MSE or RMSE of the model, or MAE if the data contains lots of outliers."
      ],
      "metadata": {
        "id": "J1fWY0iayxyu"
      }
    },
    {
      "cell_type": "markdown",
      "source": [
        "## Final Revised/Improved Approach"
      ],
      "metadata": {
        "id": "_585jtiPzguZ"
      }
    },
    {
      "cell_type": "code",
      "source": [
        "# Available Data (Input) - \n",
        "# 'eta','ata','atd','vesseldwt','vesseltype','stevedorenames','hasnohamis', 'earliesteta'\n",
        "# 'latesteta','traveltype',# 'previousportid', 'nextportid', 'isremarkable','vesselid'\n",
        "\n",
        "# Available Data (Output) - Total load (float) and discharge (float) activities (Output)\n",
        "\n",
        "# Scenario - Vessels with 5 types of cargo (given by 'vesseltype') load and unload cargo at different ports. \n",
        "# 'dischargeX' and 'loadX' -> represents the type of cargo discharged and loaded.\n",
        "# => vesseltype_1 <--> discharge1 and load1\n",
        "#...\n",
        "# => vesseltype_4 <--> discharge4 and load4\n",
        "# => vesseltype_5 <--> Applicable to all discharge and loads\n",
        "\n",
        "\n",
        "# Client Requirement - Finding load and discharge activities of each type of incoming cargo vessels \n",
        "\n",
        "\n",
        "# Solution:\n",
        "# 1. Data Analysis: Create a detailed description of the features to find related features.\n",
        "# 2. Preprocessing: Convert traveltype to float\n",
        "# 3. Feature Engineering: Drop the features with object type and use all features with float type.\n",
        "# 4. Prediction: Use multioutput regressor (sklearn.multioutput.MultiOutputRegressor) \n",
        "#    for predicting the load/unload values for each vessel type"
      ],
      "metadata": {
        "id": "tRAm4VDIzf7j"
      },
      "execution_count": null,
      "outputs": []
    }
  ]
}